{
  "nbformat": 4,
  "nbformat_minor": 0,
  "metadata": {
    "colab": {
      "provenance": [],
      "authorship_tag": "ABX9TyOla9QkHwzJ7q9uFDhx39CD",
      "include_colab_link": true
    },
    "kernelspec": {
      "name": "python3",
      "display_name": "Python 3"
    },
    "language_info": {
      "name": "python"
    }
  },
  "cells": [
    {
      "cell_type": "markdown",
      "metadata": {
        "id": "view-in-github",
        "colab_type": "text"
      },
      "source": [
        "<a href=\"https://colab.research.google.com/github/RCaminero/practice-tortoise/blob/main/tortoise_practice.ipynb\" target=\"_parent\"><img src=\"https://colab.research.google.com/assets/colab-badge.svg\" alt=\"Open In Colab\"/></a>"
      ]
    },
    {
      "cell_type": "code",
      "source": [
        "pip install tortoise-orm"
      ],
      "metadata": {
        "colab": {
          "base_uri": "https://localhost:8080/"
        },
        "id": "UJZN2JjO0xCh",
        "outputId": "12d1ee7f-3d94-45d4-dd45-857815e1ceab"
      },
      "execution_count": null,
      "outputs": [
        {
          "output_type": "stream",
          "name": "stdout",
          "text": [
            "Looking in indexes: https://pypi.org/simple, https://us-python.pkg.dev/colab-wheels/public/simple/\n",
            "Collecting tortoise-orm\n",
            "  Downloading tortoise_orm-0.19.2-py3-none-any.whl (166 kB)\n",
            "\u001b[K     |████████████████████████████████| 166 kB 7.4 MB/s \n",
            "\u001b[?25hCollecting pypika-tortoise<0.2.0,>=0.1.6\n",
            "  Downloading pypika_tortoise-0.1.6-py3-none-any.whl (47 kB)\n",
            "\u001b[K     |████████████████████████████████| 47 kB 2.6 MB/s \n",
            "\u001b[?25hCollecting aiosqlite<0.18.0,>=0.16.0\n",
            "  Downloading aiosqlite-0.17.0-py3-none-any.whl (15 kB)\n",
            "Requirement already satisfied: pytz in /usr/local/lib/python3.8/dist-packages (from tortoise-orm) (2022.6)\n",
            "Collecting iso8601<2.0.0,>=1.0.2\n",
            "  Downloading iso8601-1.1.0-py3-none-any.whl (9.9 kB)\n",
            "Requirement already satisfied: typing_extensions>=3.7.2 in /usr/local/lib/python3.8/dist-packages (from aiosqlite<0.18.0,>=0.16.0->tortoise-orm) (4.4.0)\n",
            "Installing collected packages: pypika-tortoise, iso8601, aiosqlite, tortoise-orm\n",
            "Successfully installed aiosqlite-0.17.0 iso8601-1.1.0 pypika-tortoise-0.1.6 tortoise-orm-0.19.2\n"
          ]
        }
      ]
    },
    {
      "cell_type": "code",
      "source": [
        "!pip install nest_asyncio"
      ],
      "metadata": {
        "colab": {
          "base_uri": "https://localhost:8080/"
        },
        "id": "kRNJUAZn2x37",
        "outputId": "916f1a51-4fcf-43a7-fa30-68d249f9d33d"
      },
      "execution_count": null,
      "outputs": [
        {
          "output_type": "stream",
          "name": "stdout",
          "text": [
            "Looking in indexes: https://pypi.org/simple, https://us-python.pkg.dev/colab-wheels/public/simple/\n",
            "Collecting nest_asyncio\n",
            "  Downloading nest_asyncio-1.5.6-py3-none-any.whl (5.2 kB)\n",
            "Installing collected packages: nest-asyncio\n",
            "Successfully installed nest-asyncio-1.5.6\n"
          ]
        }
      ]
    },
    {
      "cell_type": "code",
      "execution_count": null,
      "metadata": {
        "colab": {
          "base_uri": "https://localhost:8080/"
        },
        "id": "U7hnzw690t1a",
        "outputId": "b75fcfd0-367b-4a04-dfbc-572dc3a62c8c"
      },
      "outputs": [
        {
          "output_type": "stream",
          "name": "stdout",
          "text": [
            "['countryTest', 'Dominican Republic', 'Se hizo', 'Haiti']\n"
          ]
        }
      ],
      "source": [
        "\n",
        "# Basic operations with single model\n",
        "from tortoise import Tortoise, fields, run_async\n",
        "from tortoise.models import Model\n",
        "import asyncio\n",
        "import nest_asyncio\n",
        "nest_asyncio.apply()\n",
        "\n",
        "\n",
        "class Event(Model):\n",
        "    id = fields.IntField(pk=True)\n",
        "    name = fields.TextField()\n",
        "    capital = fields.TextField(null=True)\n",
        "\n",
        "    class Meta:\n",
        "        table = \"countries\"\n",
        "\n",
        "    def __str__(self):\n",
        "        return self.name\n",
        "\n",
        "\n",
        "async def run():\n",
        "    await Tortoise.init(db_url=\"sqlite://:memory:\", modules={\"models\": [\"__main__\"]})\n",
        "    await Tortoise.generate_schemas()\n",
        "\n",
        "    event = await Event.create(name=\"countryTest\", capital=\"capitalTest\")\n",
        "\n",
        "    # Save data\n",
        "    await Event(name=\"Dominican Republic\", capital=\"Santo Domingo\").save()\n",
        "    await Event(name=\"Austria\", capital=\"Vienna\").save()\n",
        "    await Event(name=\"Haiti\", capital=\"Pourt Prince\").save()\n",
        "\n",
        "    # Update Date\n",
        "    await Event.filter(id=3).update(name=\"Did it\")\n",
        "\n",
        "    # \n",
        "\n",
        "    print(await Event.all().values_list(\"name\", flat=True))\n",
        "    # print(await Event.filter(id=2).first())\n",
        "    # # >>> [1, 2]\n",
        "    # print(await Event.all().values(\"id\", \"name\"))\n",
        "    # # >>> [{'id': 1, 'name': 'Updated name'}, {'id': 2, 'name': 'Test 2'}]\n",
        "\n",
        "\n",
        "if __name__ == \"__main__\":\n",
        "    run_async(run())"
      ]
    }
  ]
}